{
 "cells": [
  {
   "cell_type": "code",
   "execution_count": 18,
   "metadata": {},
   "outputs": [],
   "source": [
    "import numpy as np\n",
    "import torch\n",
    "import torch.nn as nn\n",
    "import torch.optim as optim\n",
    "from torch.utils.data import DataLoader , TensorDataset\n",
    "import matplotlib.pyplot as plt\n",
    "from lstm_cnn_net import lstm_cnn\n",
    "from lstm_net import LSTM\n",
    "from cnn_net import MyNet\n",
    "from sklearn.metrics import precision_score, recall_score, f1_score, accuracy_score, confusion_matrix"
   ]
  },
  {
   "cell_type": "code",
   "execution_count": 19,
   "metadata": {},
   "outputs": [
    {
     "name": "stdout",
     "output_type": "stream",
     "text": [
      "torch.Size([715, 301, 12]) torch.Size([46, 301, 12]) torch.Size([47, 301, 12])\n",
      "torch.Size([715]) torch.Size([46]) torch.Size([47])\n"
     ]
    }
   ],
   "source": [
    "names = ['AC', 'AD', 'BC', 'BD']\n",
    "types = ['train', 'val', 'test']\n",
    "#load data\n",
    "#mac: /Users/syunsei/Desktop/HRI2025/process_data/classifier/\n",
    "#win: C:\\Github_LIU\\HRI2025\\process_data\\classifier\\\n",
    "for name in names:\n",
    "    for type in types:\n",
    "        globals()[name + '_' + type] = np.load('C:\\Github_LIU\\HRI2025\\process_data\\classifier\\\\' + name + '_' + type + '.npy')\n",
    "X_train = np.concatenate((AC_train, AD_train, BC_train, BD_train), axis=0)\n",
    "X_val = np.concatenate((AC_val, AD_val, BC_val, BD_val), axis=0)\n",
    "X_test = np.concatenate((AC_test, AD_test, BC_test, BD_test), axis=0)\n",
    "y_train = np.concatenate((np.zeros(AC_train.shape[0]), np.ones(AD_train.shape[0]), np.ones(BC_train.shape[0]) * 2, np.ones(BD_train.shape[0]) * 3), axis=0)\n",
    "y_val = np.concatenate((np.zeros(AC_val.shape[0]), np.ones(AD_val.shape[0]), np.ones(BC_val.shape[0]) * 2, np.ones(BD_val.shape[0]) * 3), axis=0)\n",
    "y_test = np.concatenate((np.zeros(AC_test.shape[0]), np.ones(AD_test.shape[0]), np.ones(BC_test.shape[0]) * 2, np.ones(BD_test.shape[0]) * 3), axis=0)\n",
    "\n",
    "#归一化\n",
    "# def min_max_normalize(data):\n",
    "#     # 初始化归一化后的特征矩阵\n",
    "#     normalized_features = np.zeros_like(data)\n",
    "#     # 对每个 dim 进行归一化\n",
    "#     for i in range(data.shape[1]):\n",
    "#         dim_values = data[:, :, i]\n",
    "#         min_val = np.min(dim_values)\n",
    "#         max_val = np.max(dim_values)\n",
    "#         # 使用最小-最大归一化公式\n",
    "#         normalized_features[:, :, i] = (dim_values - min_val) / (max_val - min_val)\n",
    "#     return normalized_features\n",
    "\n",
    "# X_train = min_max_normalize(X_train)\n",
    "# X_val = min_max_normalize(X_val)\n",
    "# X_test = min_max_normalize(X_test)\n",
    "\n",
    "#split data into training and testing and validation\n",
    "'''X_train=np.concatenate ((X_train[:,:,0:3],X_train[:,:,6:9]), axis=2)\n",
    "X_val=np.concatenate ((X_val[:,:,0:3],X_val[:,:,6:9]), axis=2)\n",
    "X_test=np.concatenate ((X_test[:,:,0:3],X_test[:,:,6:9]), axis=2)'''\n",
    "X_train=torch.tensor(X_train,dtype=torch.float32)\n",
    "X_val=torch.tensor(X_val,dtype=torch.float32)\n",
    "X_test=torch.tensor(X_test,dtype=torch.float32)\n",
    "y_train=torch.tensor(y_train,dtype=torch.long)\n",
    "y_val=torch.tensor(y_val,dtype=torch.long)\n",
    "y_test=torch.tensor(y_test,dtype=torch.long)\n",
    "print(X_train.shape, X_val.shape, X_test.shape)\n",
    "print(y_train.shape, y_val.shape, y_test.shape)\n",
    "\n",
    "\n",
    "# #draw X_train\n",
    "# print(X_train[66].shape)\n",
    "# plt.plot(X_train[66])\n",
    "# plt.show()\n",
    "'''\n",
    "batch_size = 100\n",
    "train_data = TensorDataset(torch.from_numpy(X_train).float(), torch.from_numpy(y_train))\n",
    "train_loader = DataLoader(train_data, shuffle=True, batch_size=batch_size)\n",
    "val_data = TensorDataset(torch.from_numpy(X_val).float(), torch.from_numpy(y_val))\n",
    "val_loader = DataLoader(val_data, shuffle=True, batch_size=batch_size)\n",
    "test_data = TensorDataset(torch.from_numpy(X_test).float(), torch.from_numpy(y_test))\n",
    "test_loader = DataLoader(test_data, shuffle=True, batch_size=batch_size)'''\n",
    "\n",
    "#dataset\n",
    "train_data = TensorDataset(X_train, y_train)\n",
    "train_loader = DataLoader(train_data, shuffle=True, batch_size=100)\n",
    "val_data = TensorDataset(X_val, y_val)\n",
    "val_loader = DataLoader(val_data, shuffle=True, batch_size=20)\n",
    "test_data = TensorDataset(X_test, y_test)\n",
    "test_loader = DataLoader(test_data, shuffle=True, batch_size=20)\n"
   ]
  },
  {
   "cell_type": "code",
   "execution_count": 20,
   "metadata": {},
   "outputs": [],
   "source": [
    "#define hyperparameters\n",
    "sequence_len = 301\n",
    "input_len = 12\n",
    "hidden_size = 128\n",
    "num_layers = 2\n",
    "num_classes = 4\n",
    "num_epochs = 50\n",
    "learning_rate = 0.001"
   ]
  },
  {
   "cell_type": "code",
   "execution_count": 21,
   "metadata": {},
   "outputs": [
    {
     "name": "stdout",
     "output_type": "stream",
     "text": [
      "Using device: cuda\n"
     ]
    }
   ],
   "source": [
    "if torch.cuda.is_available():\n",
    "    device = torch.device('cuda')\n",
    "else:\n",
    "    device = torch.device('cpu')\n",
    "print(f\"Using device: {device}\")"
   ]
  },
  {
   "cell_type": "code",
   "execution_count": 22,
   "metadata": {},
   "outputs": [
    {
     "name": "stdout",
     "output_type": "stream",
     "text": [
      "lstm_cnn(\n",
      "  (conv1): Conv1d(12, 32, kernel_size=(9,), stride=(1,))\n",
      "  (conv2): Conv1d(32, 64, kernel_size=(5,), stride=(1,))\n",
      "  (conv3): Conv1d(64, 32, kernel_size=(5,), stride=(1,))\n",
      "  (relu): LeakyReLU(negative_slope=0.01)\n",
      "  (maxpool): MaxPool1d(kernel_size=2, stride=2, padding=1, dilation=1, ceil_mode=False)\n",
      "  (lstm): LSTM(32, 128, num_layers=2, batch_first=True)\n",
      "  (dropout): Dropout(p=0.5, inplace=False)\n",
      "  (output_layer): Linear(in_features=256, out_features=4, bias=True)\n",
      ")\n"
     ]
    }
   ],
   "source": [
    "model = lstm_cnn(input_len, hidden_size, num_layers, num_classes).to(device)\n",
    "#model = MyNet().to(device)\n",
    "print(model)"
   ]
  },
  {
   "cell_type": "code",
   "execution_count": 23,
   "metadata": {},
   "outputs": [],
   "source": [
    "loss_function = nn.CrossEntropyLoss()\n",
    "optimizer = optim.Adam(model.parameters(), lr=learning_rate)"
   ]
  },
  {
   "cell_type": "code",
   "execution_count": 24,
   "metadata": {},
   "outputs": [
    {
     "name": "stdout",
     "output_type": "stream",
     "text": [
      "Epoch [1; Batch 2/8]; Loss: 1.3907\n",
      "Epoch [1; Batch 4/8]; Loss: 1.3825\n",
      "Epoch [1; Batch 6/8]; Loss: 1.3772\n",
      "Epoch [1; Batch 8/8]; Loss: 1.3414\n",
      "Epoch [2; Batch 2/8]; Loss: 1.3930\n",
      "Epoch [2; Batch 4/8]; Loss: 1.3580\n",
      "Epoch [2; Batch 6/8]; Loss: 1.3137\n",
      "Epoch [2; Batch 8/8]; Loss: 1.2730\n",
      "Epoch [3; Batch 2/8]; Loss: 1.1951\n",
      "Epoch [3; Batch 4/8]; Loss: 1.1472\n",
      "Epoch [3; Batch 6/8]; Loss: 1.0211\n",
      "Epoch [3; Batch 8/8]; Loss: 1.0565\n",
      "Epoch [4; Batch 2/8]; Loss: 0.9400\n",
      "Epoch [4; Batch 4/8]; Loss: 0.9268\n",
      "Epoch [4; Batch 6/8]; Loss: 0.9519\n",
      "Epoch [4; Batch 8/8]; Loss: 0.9714\n",
      "Epoch [5; Batch 2/8]; Loss: 0.9110\n",
      "Epoch [5; Batch 4/8]; Loss: 0.7604\n",
      "Epoch [5; Batch 6/8]; Loss: 0.8605\n",
      "Epoch [5; Batch 8/8]; Loss: 0.8671\n",
      "Epoch [6; Batch 2/8]; Loss: 0.6856\n",
      "Epoch [6; Batch 4/8]; Loss: 0.7806\n",
      "Epoch [6; Batch 6/8]; Loss: 0.6314\n",
      "Epoch [6; Batch 8/8]; Loss: 0.4976\n",
      "Epoch [7; Batch 2/8]; Loss: 0.5421\n",
      "Epoch [7; Batch 4/8]; Loss: 0.7622\n",
      "Epoch [7; Batch 6/8]; Loss: 0.5780\n",
      "Epoch [7; Batch 8/8]; Loss: 0.6129\n",
      "Epoch [8; Batch 2/8]; Loss: 0.5856\n",
      "Epoch [8; Batch 4/8]; Loss: 0.5813\n",
      "Epoch [8; Batch 6/8]; Loss: 0.4094\n",
      "Epoch [8; Batch 8/8]; Loss: 0.6403\n",
      "Epoch [9; Batch 2/8]; Loss: 0.3596\n",
      "Epoch [9; Batch 4/8]; Loss: 0.3653\n",
      "Epoch [9; Batch 6/8]; Loss: 0.3217\n",
      "Epoch [9; Batch 8/8]; Loss: 0.4855\n",
      "Epoch [10; Batch 2/8]; Loss: 0.3860\n",
      "Epoch [10; Batch 4/8]; Loss: 0.3110\n",
      "Epoch [10; Batch 6/8]; Loss: 0.1659\n",
      "Epoch [10; Batch 8/8]; Loss: 0.1461\n",
      "Epoch [11; Batch 2/8]; Loss: 0.1463\n",
      "Epoch [11; Batch 4/8]; Loss: 0.2156\n",
      "Epoch [11; Batch 6/8]; Loss: 0.1973\n",
      "Epoch [11; Batch 8/8]; Loss: 0.1307\n",
      "Epoch [12; Batch 2/8]; Loss: 0.0562\n",
      "Epoch [12; Batch 4/8]; Loss: 0.0929\n",
      "Epoch [12; Batch 6/8]; Loss: 0.0608\n",
      "Epoch [12; Batch 8/8]; Loss: 0.0435\n",
      "Epoch [13; Batch 2/8]; Loss: 0.0413\n",
      "Epoch [13; Batch 4/8]; Loss: 0.0135\n",
      "Epoch [13; Batch 6/8]; Loss: 0.0166\n",
      "Epoch [13; Batch 8/8]; Loss: 0.0153\n",
      "Epoch [14; Batch 2/8]; Loss: 0.0100\n",
      "Epoch [14; Batch 4/8]; Loss: 0.0120\n",
      "Epoch [14; Batch 6/8]; Loss: 0.0055\n",
      "Epoch [14; Batch 8/8]; Loss: 0.0068\n",
      "Epoch [15; Batch 2/8]; Loss: 0.0072\n",
      "Epoch [15; Batch 4/8]; Loss: 0.0132\n",
      "Epoch [15; Batch 6/8]; Loss: 0.0043\n",
      "Epoch [15; Batch 8/8]; Loss: 0.0013\n",
      "Epoch [16; Batch 2/8]; Loss: 0.0027\n",
      "Epoch [16; Batch 4/8]; Loss: 0.0068\n",
      "Epoch [16; Batch 6/8]; Loss: 0.0023\n",
      "Epoch [16; Batch 8/8]; Loss: 0.0179\n",
      "Epoch [17; Batch 2/8]; Loss: 0.0025\n",
      "Epoch [17; Batch 4/8]; Loss: 0.0014\n",
      "Epoch [17; Batch 6/8]; Loss: 0.0008\n",
      "Epoch [17; Batch 8/8]; Loss: 0.0008\n",
      "Epoch [18; Batch 2/8]; Loss: 0.0022\n",
      "Epoch [18; Batch 4/8]; Loss: 0.0013\n",
      "Epoch [18; Batch 6/8]; Loss: 0.0007\n",
      "Epoch [18; Batch 8/8]; Loss: 0.0016\n",
      "Epoch [19; Batch 2/8]; Loss: 0.0026\n",
      "Epoch [19; Batch 4/8]; Loss: 0.0013\n",
      "Epoch [19; Batch 6/8]; Loss: 0.0004\n",
      "Epoch [19; Batch 8/8]; Loss: 0.0003\n",
      "Epoch [20; Batch 2/8]; Loss: 0.0005\n",
      "Epoch [20; Batch 4/8]; Loss: 0.0009\n",
      "Epoch [20; Batch 6/8]; Loss: 0.0006\n",
      "Epoch [20; Batch 8/8]; Loss: 0.0005\n",
      "Epoch [21; Batch 2/8]; Loss: 0.0004\n",
      "Epoch [21; Batch 4/8]; Loss: 0.0005\n",
      "Epoch [21; Batch 6/8]; Loss: 0.0006\n",
      "Epoch [21; Batch 8/8]; Loss: 0.0003\n",
      "Epoch [22; Batch 2/8]; Loss: 0.0007\n",
      "Epoch [22; Batch 4/8]; Loss: 0.0005\n",
      "Epoch [22; Batch 6/8]; Loss: 0.0003\n",
      "Epoch [22; Batch 8/8]; Loss: 0.0003\n",
      "Epoch [23; Batch 2/8]; Loss: 0.0004\n",
      "Epoch [23; Batch 4/8]; Loss: 0.0003\n",
      "Epoch [23; Batch 6/8]; Loss: 0.0004\n",
      "Epoch [23; Batch 8/8]; Loss: 0.0003\n",
      "Epoch [24; Batch 2/8]; Loss: 0.0003\n",
      "Epoch [24; Batch 4/8]; Loss: 0.0004\n",
      "Epoch [24; Batch 6/8]; Loss: 0.0004\n",
      "Epoch [24; Batch 8/8]; Loss: 0.0002\n",
      "Epoch [25; Batch 2/8]; Loss: 0.0003\n",
      "Epoch [25; Batch 4/8]; Loss: 0.0003\n",
      "Epoch [25; Batch 6/8]; Loss: 0.0003\n",
      "Epoch [25; Batch 8/8]; Loss: 0.0005\n",
      "Epoch [26; Batch 2/8]; Loss: 0.0002\n",
      "Epoch [26; Batch 4/8]; Loss: 0.0003\n",
      "Epoch [26; Batch 6/8]; Loss: 0.0003\n",
      "Epoch [26; Batch 8/8]; Loss: 0.0001\n",
      "Epoch [27; Batch 2/8]; Loss: 0.0003\n",
      "Epoch [27; Batch 4/8]; Loss: 0.0002\n",
      "Epoch [27; Batch 6/8]; Loss: 0.0002\n",
      "Epoch [27; Batch 8/8]; Loss: 0.0002\n",
      "Epoch [28; Batch 2/8]; Loss: 0.0003\n",
      "Epoch [28; Batch 4/8]; Loss: 0.0002\n",
      "Epoch [28; Batch 6/8]; Loss: 0.0002\n",
      "Epoch [28; Batch 8/8]; Loss: 0.0002\n",
      "Epoch [29; Batch 2/8]; Loss: 0.0003\n",
      "Epoch [29; Batch 4/8]; Loss: 0.0001\n",
      "Epoch [29; Batch 6/8]; Loss: 0.0002\n",
      "Epoch [29; Batch 8/8]; Loss: 0.0002\n",
      "Epoch [30; Batch 2/8]; Loss: 0.0002\n",
      "Epoch [30; Batch 4/8]; Loss: 0.0002\n",
      "Epoch [30; Batch 6/8]; Loss: 0.0002\n",
      "Epoch [30; Batch 8/8]; Loss: 0.0001\n",
      "Epoch [31; Batch 2/8]; Loss: 0.0002\n",
      "Epoch [31; Batch 4/8]; Loss: 0.0002\n",
      "Epoch [31; Batch 6/8]; Loss: 0.0002\n",
      "Epoch [31; Batch 8/8]; Loss: 0.0001\n",
      "Epoch [32; Batch 2/8]; Loss: 0.0002\n",
      "Epoch [32; Batch 4/8]; Loss: 0.0002\n",
      "Epoch [32; Batch 6/8]; Loss: 0.0002\n",
      "Epoch [32; Batch 8/8]; Loss: 0.0001\n",
      "Epoch [33; Batch 2/8]; Loss: 0.0002\n",
      "Epoch [33; Batch 4/8]; Loss: 0.0001\n",
      "Epoch [33; Batch 6/8]; Loss: 0.0002\n",
      "Epoch [33; Batch 8/8]; Loss: 0.0002\n",
      "Epoch [34; Batch 2/8]; Loss: 0.0002\n",
      "Epoch [34; Batch 4/8]; Loss: 0.0001\n",
      "Epoch [34; Batch 6/8]; Loss: 0.0001\n",
      "Epoch [34; Batch 8/8]; Loss: 0.0002\n",
      "Epoch [35; Batch 2/8]; Loss: 0.0001\n",
      "Epoch [35; Batch 4/8]; Loss: 0.0001\n",
      "Epoch [35; Batch 6/8]; Loss: 0.0002\n",
      "Epoch [35; Batch 8/8]; Loss: 0.0001\n",
      "Epoch [36; Batch 2/8]; Loss: 0.0001\n",
      "Epoch [36; Batch 4/8]; Loss: 0.0001\n",
      "Epoch [36; Batch 6/8]; Loss: 0.0002\n",
      "Epoch [36; Batch 8/8]; Loss: 0.0001\n",
      "Epoch [37; Batch 2/8]; Loss: 0.0001\n",
      "Epoch [37; Batch 4/8]; Loss: 0.0001\n",
      "Epoch [37; Batch 6/8]; Loss: 0.0002\n",
      "Epoch [37; Batch 8/8]; Loss: 0.0002\n",
      "Epoch [38; Batch 2/8]; Loss: 0.0001\n",
      "Epoch [38; Batch 4/8]; Loss: 0.0002\n",
      "Epoch [38; Batch 6/8]; Loss: 0.0001\n",
      "Epoch [38; Batch 8/8]; Loss: 0.0001\n",
      "Epoch [39; Batch 2/8]; Loss: 0.0001\n",
      "Epoch [39; Batch 4/8]; Loss: 0.0001\n",
      "Epoch [39; Batch 6/8]; Loss: 0.0001\n",
      "Epoch [39; Batch 8/8]; Loss: 0.0002\n",
      "Epoch [40; Batch 2/8]; Loss: 0.0001\n",
      "Epoch [40; Batch 4/8]; Loss: 0.0001\n",
      "Epoch [40; Batch 6/8]; Loss: 0.0001\n",
      "Epoch [40; Batch 8/8]; Loss: 0.0000\n",
      "Epoch [41; Batch 2/8]; Loss: 0.0001\n",
      "Epoch [41; Batch 4/8]; Loss: 0.0001\n",
      "Epoch [41; Batch 6/8]; Loss: 0.0001\n",
      "Epoch [41; Batch 8/8]; Loss: 0.0002\n",
      "Epoch [42; Batch 2/8]; Loss: 0.0001\n",
      "Epoch [42; Batch 4/8]; Loss: 0.0001\n",
      "Epoch [42; Batch 6/8]; Loss: 0.0001\n",
      "Epoch [42; Batch 8/8]; Loss: 0.0001\n",
      "Epoch [43; Batch 2/8]; Loss: 0.0001\n",
      "Epoch [43; Batch 4/8]; Loss: 0.0001\n",
      "Epoch [43; Batch 6/8]; Loss: 0.0001\n",
      "Epoch [43; Batch 8/8]; Loss: 0.0001\n",
      "Epoch [44; Batch 2/8]; Loss: 0.0001\n",
      "Epoch [44; Batch 4/8]; Loss: 0.0001\n",
      "Epoch [44; Batch 6/8]; Loss: 0.0001\n",
      "Epoch [44; Batch 8/8]; Loss: 0.0001\n",
      "Epoch [45; Batch 2/8]; Loss: 0.0001\n",
      "Epoch [45; Batch 4/8]; Loss: 0.0001\n",
      "Epoch [45; Batch 6/8]; Loss: 0.0001\n",
      "Epoch [45; Batch 8/8]; Loss: 0.0000\n",
      "Epoch [46; Batch 2/8]; Loss: 0.0001\n",
      "Epoch [46; Batch 4/8]; Loss: 0.0001\n",
      "Epoch [46; Batch 6/8]; Loss: 0.0001\n",
      "Epoch [46; Batch 8/8]; Loss: 0.0001\n",
      "Epoch [47; Batch 2/8]; Loss: 0.0001\n",
      "Epoch [47; Batch 4/8]; Loss: 0.0001\n",
      "Epoch [47; Batch 6/8]; Loss: 0.0001\n",
      "Epoch [47; Batch 8/8]; Loss: 0.0001\n",
      "Epoch [48; Batch 2/8]; Loss: 0.0001\n",
      "Epoch [48; Batch 4/8]; Loss: 0.0001\n",
      "Epoch [48; Batch 6/8]; Loss: 0.0001\n",
      "Epoch [48; Batch 8/8]; Loss: 0.0001\n",
      "Epoch [49; Batch 2/8]; Loss: 0.0001\n",
      "Epoch [49; Batch 4/8]; Loss: 0.0001\n",
      "Epoch [49; Batch 6/8]; Loss: 0.0001\n",
      "Epoch [49; Batch 8/8]; Loss: 0.0000\n",
      "Epoch [50; Batch 2/8]; Loss: 0.0001\n",
      "Epoch [50; Batch 4/8]; Loss: 0.0001\n",
      "Epoch [50; Batch 6/8]; Loss: 0.0001\n",
      "Epoch [50; Batch 8/8]; Loss: 0.0001\n"
     ]
    },
    {
     "data": {
      "image/png": "[encoded data removed]",
      "text/plain": [
       "<Figure size 640x480 with 1 Axes>"
      ]
     },
     "metadata": {},
     "output_type": "display_data"
    }
   ],
   "source": [
    "def train(num_epochs, model, train_loader, loss_function):\n",
    "    total_step = len(train_loader)\n",
    "    \n",
    "    for epoch in range(num_epochs):\n",
    "        for batch, (lifts, labels) in enumerate(train_loader):\n",
    "            '''lifts = lifts.reshape(-1, sequence_len, input_len).to(device)\n",
    "            labels = labels.long().to(device)'''\n",
    "            lifts, labels = lifts.to(device), labels.to(device)\n",
    "            \n",
    "            outputs = model(lifts)\n",
    "            loss = loss_function(outputs, labels)\n",
    "            \n",
    "            optimizer.zero_grad()\n",
    "            loss.backward()\n",
    "            optimizer.step()\n",
    "            \n",
    "            if (batch+1) % 2 == 0:\n",
    "                loss_list.append(loss.item())\n",
    "                print(f\"Epoch [{epoch+1}; Batch {batch+1}/{total_step}]; Loss: {loss.item():.4f}\")\n",
    "                \n",
    "loss_list = []\n",
    "#draw learning curve\n",
    "def plot_learning_curve(loss_list):\n",
    "    plt.plot(loss_list, label=\"loss\")\n",
    "    plt.xlabel(\"Iterations\")\n",
    "    plt.ylabel(\"Loss\")\n",
    "    plt.title(\"Learning Curve\")\n",
    "    plt.legend()\n",
    "    plt.show()\n",
    "    \n",
    "train(num_epochs, model, train_loader, loss_function)\n",
    "plot_learning_curve(loss_list)\n"
   ]
  },
  {
   "cell_type": "code",
   "execution_count": 25,
   "metadata": {},
   "outputs": [
    {
     "name": "stdout",
     "output_type": "stream",
     "text": [
      "Validation accuracy: 71.73913043478261%\n"
     ]
    }
   ],
   "source": [
    "def validate(model, val_loader):\n",
    "    with torch.no_grad():\n",
    "        correct = 0\n",
    "        total = 0\n",
    "        for lifts, labels in val_loader:\n",
    "            lifts = lifts.reshape(-1, sequence_len, input_len).to(device)\n",
    "            labels = labels.long().to(device)\n",
    "            \n",
    "            outputs = model(lifts)\n",
    "            _, predicted = torch.max(outputs.data, 1)\n",
    "            total += labels.size(0)\n",
    "            correct += (predicted == labels).sum().item()\n",
    "        \n",
    "        print(f\"Validation accuracy: {100 * correct / total}%\")\n",
    "\n",
    "validate(model, val_loader)"
   ]
  },
  {
   "cell_type": "code",
   "execution_count": 27,
   "metadata": {},
   "outputs": [
    {
     "data": {
      "text/plain": [
       "<All keys matched successfully>"
      ]
     },
     "execution_count": 27,
     "metadata": {},
     "output_type": "execute_result"
    }
   ],
   "source": [
    "model.load_state_dict(torch.load('89lstm.pth'))"
   ]
  },
  {
   "cell_type": "code",
   "execution_count": 28,
   "metadata": {},
   "outputs": [
    {
     "name": "stdout",
     "output_type": "stream",
     "text": [
      "Validation accuracy: 89.1304347826087%\n",
      "[[ 9  1  0  0]\n",
      " [ 0 10  0  2]\n",
      " [ 0  0 12  0]\n",
      " [ 0  1  1 10]]\n"
     ]
    },
    {
     "data": {
      "image/png": "[encoded data removed]",
      "text/plain": [
       "<Figure size 640x480 with 1 Axes>"
      ]
     },
     "metadata": {},
     "output_type": "display_data"
    },
    {
     "name": "stdout",
     "output_type": "stream",
     "text": [
      "Precision: 0.8974, Recall: 0.8917, F1: 0.8935\n"
     ]
    },
    {
     "data": {
      "text/plain": [
       "(89.1304347826087, 0.8974358974358975, 0.8916666666666667, 0.8935087719298246)"
      ]
     },
     "execution_count": 28,
     "metadata": {},
     "output_type": "execute_result"
    }
   ],
   "source": [
    "def validate(model, val_loader, sequence_len, input_len, device):\n",
    "    model.eval()  # Set the model to evaluation mode\n",
    "    with torch.no_grad():\n",
    "        correct = 0\n",
    "        total = 0\n",
    "        all_labels = []\n",
    "        all_predictions = []\n",
    "        \n",
    "        for lifts, labels in val_loader:\n",
    "            lifts = lifts.reshape(-1, sequence_len, input_len).to(device)\n",
    "            labels = labels.long().to(device)\n",
    "            \n",
    "            outputs = model(lifts)\n",
    "            _, predicted = torch.max(outputs.data, 1)\n",
    "            total += labels.size(0)\n",
    "            correct += (predicted == labels).sum().item()\n",
    "            \n",
    "            # Accumulate labels and predictions\n",
    "            all_labels.extend(labels.cpu().numpy())\n",
    "            all_predictions.extend(predicted.cpu().numpy())\n",
    "        \n",
    "        accuracy = 100 * correct / total\n",
    "        print(f\"Validation accuracy: {accuracy}%\")\n",
    "\n",
    "        # Calculate confusion matrix\n",
    "        conf_matrix = confusion_matrix(all_labels, all_predictions)\n",
    "        print(conf_matrix)\n",
    "        #plot confusion matrix\n",
    "        class_labels_conf = ['AC', 'AD', 'BC', 'BD']\n",
    "        fig, ax = plt.subplots()\n",
    "        im = ax.imshow(conf_matrix, cmap='Blues')\n",
    "        ax.set_xticks(np.arange(len(class_labels_conf)))\n",
    "        ax.set_yticks(np.arange(len(class_labels_conf)))\n",
    "        ax.set_xticklabels(class_labels_conf)\n",
    "        ax.set_yticklabels(class_labels_conf)\n",
    "        plt.setp(ax.get_xticklabels(), rotation=45, ha=\"right\", rotation_mode=\"anchor\")\n",
    "        for i in range(len(class_labels_conf)):\n",
    "            for j in range(len(class_labels_conf)):\n",
    "                text = ax.text(j, i, conf_matrix[i, j], ha=\"center\", va=\"center\", color=\"black\")\n",
    "        ax.set_title(\"Confusion Matrix\")\n",
    "        fig.tight_layout()\n",
    "        plt.ylabel('Actual Label', fontsize=15)\n",
    "        plt.xlabel('Predicted Label', fontsize=15)\n",
    "        plt.show()\n",
    "\n",
    "        # Calculate precision, recall, and F1 scor\n",
    "        precision = precision_score(all_labels, all_predictions, average='macro')\n",
    "        recall = recall_score(all_labels, all_predictions, average='macro')\n",
    "        f1 = f1_score(all_labels, all_predictions, average='macro')\n",
    "        print(f\"Precision: {precision:.4f}, Recall: {recall:.4f}, F1: {f1:.4f}\")\n",
    "        return accuracy, precision, recall, f1\n",
    "\n",
    "\n",
    "# Assuming `model`, `val_loader`, `sequence_len`, `input_len`, and `device` are defined\n",
    "validate(model, val_loader, sequence_len, input_len, device)\n",
    "\n",
    "\n",
    "\n"
   ]
  },
  {
   "cell_type": "code",
   "execution_count": 14,
   "metadata": {},
   "outputs": [
    {
     "name": "stdout",
     "output_type": "stream",
     "text": [
      "Test accuracy: 65.95744680851064%\n"
     ]
    }
   ],
   "source": [
    "def test(model, test_loader):\n",
    "    with torch.no_grad():\n",
    "        correct = 0\n",
    "        total = 0\n",
    "        for lifts, labels in test_loader:\n",
    "            lifts = lifts.reshape(-1, sequence_len, input_len).to(device)\n",
    "            labels = labels.long().to(device)\n",
    "            \n",
    "            outputs = model(lifts)\n",
    "            _, predicted = torch.max(outputs.data, 1)\n",
    "            total += labels.size(0)\n",
    "            correct += (predicted == labels).sum().item()\n",
    "        \n",
    "        print(f\"Test accuracy: {100 * correct / total}%\")\n",
    "\n",
    "test(model, test_loader)"
   ]
  },
  {
   "cell_type": "code",
   "execution_count": 15,
   "metadata": {},
   "outputs": [],
   "source": [
    "#save model\n",
    "torch.save(model.state_dict(), \"model.pth\")\n"
   ]
  }
 ],
 "metadata": {
  "kernelspec": {
   "display_name": "Python 3",
   "language": "python",
   "name": "python3"
  },
  "language_info": {
   "codemirror_mode": {
    "name": "ipython",
    "version": 3
   },
   "file_extension": ".py",
   "mimetype": "text/x-python",
   "name": "python",
   "nbconvert_exporter": "python",
   "pygments_lexer": "ipython3",
   "version": "3.9.13"
  }
 },
 "nbformat": 4,
 "nbformat_minor": 2
}
